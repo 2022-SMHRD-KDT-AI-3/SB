{
 "cells": [
  {
   "cell_type": "code",
   "execution_count": 21,
   "metadata": {},
   "outputs": [
    {
     "name": "stdout",
     "output_type": "stream",
     "text": [
      "WALKRUN_00512_jpg.rf.b1f1221847a2e9570e0f1be14399214c.txt\n",
      "116 222 90 34 177 6 1\n"
     ]
    }
   ],
   "source": [
    "import os\n",
    "\n",
    "labelPath = \"C:/Users/smhrd/Downloads/Data_Sample/labels/valid\"\n",
    "fileList = os.listdir(labelPath)\n",
    "\n",
    "one = 0\n",
    "two = 0\n",
    "three = 0\n",
    "four = 0\n",
    "five = 0\n",
    "six = 0\n",
    "etc = 0\n",
    "\n",
    "for i in range(len(fileList)) :\n",
    "\n",
    "    with open(f\"C:/Users/smhrd/Downloads/Data_Sample/labels/valid/{fileList[i]}\", \"r\") as file:\n",
    "        strings = file.readlines()\n",
    "        \n",
    "        if strings[0].split(' ')[0] == '0' :\n",
    "            one = one + 1\n",
    "        elif strings[0].split(' ')[0] == '1' :\n",
    "            two = two + 1\n",
    "        elif strings[0].split(' ')[0] == '2' :\n",
    "            three = three + 1\n",
    "        elif strings[0].split(' ')[0] == '3' :\n",
    "            four = four + 1\n",
    "        elif strings[0].split(' ')[0] == '4' :\n",
    "            five = five + 1\n",
    "        elif strings[0].split(' ')[0] == '5' :\n",
    "            six = six + 1              \n",
    "        else :\n",
    "            etc = etc + 1\n",
    "            print(fileList[i])\n",
    "            \n",
    "print(one, two, three, four, five, six, etc)"
   ]
  },
  {
   "cell_type": "code",
   "execution_count": 1,
   "metadata": {},
   "outputs": [
    {
     "ename": "SyntaxError",
     "evalue": "invalid syntax (Temp/ipykernel_18468/431208848.py, line 1)",
     "output_type": "error",
     "traceback": [
      "\u001b[1;36m  File \u001b[1;32m\"C:\\Users\\smhrd\\AppData\\Local\\Temp/ipykernel_18468/431208848.py\"\u001b[1;36m, line \u001b[1;32m1\u001b[0m\n\u001b[1;33m    <!DOCTYPE html>\u001b[0m\n\u001b[1;37m    ^\u001b[0m\n\u001b[1;31mSyntaxError\u001b[0m\u001b[1;31m:\u001b[0m invalid syntax\n"
     ]
    }
   ],
   "source": [
    "<!DOCTYPE html>\n",
    "<html lang=\"en\">\n",
    "<head>\n",
    "    <meta charset=\"UTF-8\">\n",
    "    <meta http-equiv=\"X-UA-Compatible\" content=\"IE=edge\">\n",
    "    <meta name=\"viewport\" content=\"width=device-width, initial-scale=1.0\">\n",
    "    <title>Document</title>\n",
    "</head>\n",
    "<body>\n",
    "    <h1>웹캠 테스트</h1>\n",
    "    <div class=\"buttons\">\n",
    "        <button onclick=\"startWebcam()\">캠 열기</button>\n",
    "        <button onclick=\"stopWebcam()\">캠 닫기</button>\n",
    "    </div>\n",
    "    <video id=\"webcam-id\" autoplay=\"true\">\n",
    "\n",
    "    </video>\n",
    "\n",
    "\n",
    "\n",
    "    <script>\n",
    "        const videoEL = document.getElementById(\"webcam-id\");\n",
    "\n",
    "        const startWebcam = () => {\n",
    "            if(navigator.mediaDevices.getUserMedia) {\n",
    "                navigator.mediaDevices\n",
    "                    .getUserMedia({video:true})\n",
    "                    .then(stream => {\n",
    "                        videoEL.srcObject = stream;\n",
    "                    })\n",
    "                    .catch(err => {\n",
    "                        console.log(\"카메라 로딩 실패!\");\n",
    "                    });\n",
    "            }\n",
    "        };\n",
    "\n",
    "        const stopWebcam = () => {\n",
    "            const stream = videoEL.srcObject;\n",
    "            const tracks = stream.getTracks();\n",
    "\n",
    "            for(let i = 0; i < tracks.length; i++) {\n",
    "                const track = tracks[i]\n",
    "                track.stop();\n",
    "            }\n",
    "\n",
    "            videoEL.srcObject = null;\n",
    "        }\n",
    "    </script>\n",
    "</body>\n",
    "</html>"
   ]
  }
 ],
 "metadata": {
  "kernelspec": {
   "display_name": "Python 3.9.7 ('base')",
   "language": "python",
   "name": "python3"
  },
  "language_info": {
   "codemirror_mode": {
    "name": "ipython",
    "version": 3
   },
   "file_extension": ".py",
   "mimetype": "text/x-python",
   "name": "python",
   "nbconvert_exporter": "python",
   "pygments_lexer": "ipython3",
   "version": "3.9.7"
  },
  "orig_nbformat": 4,
  "vscode": {
   "interpreter": {
    "hash": "3d897ffbc13b5710e71e9fb36eb41d8dd58a75d8f4bd294893ab0962f9ec9b14"
   }
  }
 },
 "nbformat": 4,
 "nbformat_minor": 2
}
